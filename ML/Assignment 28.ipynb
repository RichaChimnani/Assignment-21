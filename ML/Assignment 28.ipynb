{
 "cells": [
  {
   "cell_type": "markdown",
   "metadata": {},
   "source": [
    "# Assignment 28\n",
    "\n",
    "In this assignment, we will be using the K-nearest neighbors algorithm to predict how many points NBA players scored in the 2013-2014 season. A look at the data Before we dive into the algorithm, let’s take a look at our data. Each row in the data contains information on how a player performed in the 2013-2014 NBA season. \n",
    "Download 'nba_2013.csv' file from this link: https://www.dropbox.com/s/b3nv38jjo5dxcl6/nba_2013.csv?dl=0 \n",
    "Here are some selected columns from the data: \n",
    "    \n",
    "player - name of the player \n",
    "pos - the position of the player \n",
    "g - number of games the player was in \n",
    "gs - number of games the player started \n",
    "pts - total points the player scored \n",
    "\n",
    "There are many more columns in the data, mostly containing information about average player game performance over the course of the season. See this site for an explanation of the rest of them. We can read our dataset in and figure out which columns are present: import pandas with open(\"nba_2013.csv\", 'r') as csvfile: nba = pandas.read_csv(csvfile)\n"
   ]
  },
  {
   "cell_type": "code",
   "execution_count": 1,
   "metadata": {},
   "outputs": [],
   "source": [
    "import pandas as pd\n",
    "import numpy as np"
   ]
  },
  {
   "cell_type": "markdown",
   "metadata": {},
   "source": [
    "#### Loading data"
   ]
  },
  {
   "cell_type": "code",
   "execution_count": 2,
   "metadata": {},
   "outputs": [],
   "source": [
    "import pandas\n",
    "with open(\"nba_2013.csv\", 'r') as csvfile:\n",
    "    nba = pandas.read_csv(csvfile)"
   ]
  },
  {
   "cell_type": "code",
   "execution_count": 3,
   "metadata": {},
   "outputs": [
    {
     "data": {
      "text/html": [
       "<div>\n",
       "<style scoped>\n",
       "    .dataframe tbody tr th:only-of-type {\n",
       "        vertical-align: middle;\n",
       "    }\n",
       "\n",
       "    .dataframe tbody tr th {\n",
       "        vertical-align: top;\n",
       "    }\n",
       "\n",
       "    .dataframe thead th {\n",
       "        text-align: right;\n",
       "    }\n",
       "</style>\n",
       "<table border=\"1\" class=\"dataframe\">\n",
       "  <thead>\n",
       "    <tr style=\"text-align: right;\">\n",
       "      <th></th>\n",
       "      <th>player</th>\n",
       "      <th>pos</th>\n",
       "      <th>age</th>\n",
       "      <th>bref_team_id</th>\n",
       "      <th>g</th>\n",
       "      <th>gs</th>\n",
       "      <th>mp</th>\n",
       "      <th>fg</th>\n",
       "      <th>fga</th>\n",
       "      <th>fg.</th>\n",
       "      <th>...</th>\n",
       "      <th>drb</th>\n",
       "      <th>trb</th>\n",
       "      <th>ast</th>\n",
       "      <th>stl</th>\n",
       "      <th>blk</th>\n",
       "      <th>tov</th>\n",
       "      <th>pf</th>\n",
       "      <th>pts</th>\n",
       "      <th>season</th>\n",
       "      <th>season_end</th>\n",
       "    </tr>\n",
       "  </thead>\n",
       "  <tbody>\n",
       "    <tr>\n",
       "      <th>0</th>\n",
       "      <td>Quincy Acy</td>\n",
       "      <td>SF</td>\n",
       "      <td>23</td>\n",
       "      <td>TOT</td>\n",
       "      <td>63</td>\n",
       "      <td>0</td>\n",
       "      <td>847</td>\n",
       "      <td>66</td>\n",
       "      <td>141</td>\n",
       "      <td>0.468</td>\n",
       "      <td>...</td>\n",
       "      <td>144</td>\n",
       "      <td>216</td>\n",
       "      <td>28</td>\n",
       "      <td>23</td>\n",
       "      <td>26</td>\n",
       "      <td>30</td>\n",
       "      <td>122</td>\n",
       "      <td>171</td>\n",
       "      <td>2013-2014</td>\n",
       "      <td>2013</td>\n",
       "    </tr>\n",
       "    <tr>\n",
       "      <th>1</th>\n",
       "      <td>Steven Adams</td>\n",
       "      <td>C</td>\n",
       "      <td>20</td>\n",
       "      <td>OKC</td>\n",
       "      <td>81</td>\n",
       "      <td>20</td>\n",
       "      <td>1197</td>\n",
       "      <td>93</td>\n",
       "      <td>185</td>\n",
       "      <td>0.503</td>\n",
       "      <td>...</td>\n",
       "      <td>190</td>\n",
       "      <td>332</td>\n",
       "      <td>43</td>\n",
       "      <td>40</td>\n",
       "      <td>57</td>\n",
       "      <td>71</td>\n",
       "      <td>203</td>\n",
       "      <td>265</td>\n",
       "      <td>2013-2014</td>\n",
       "      <td>2013</td>\n",
       "    </tr>\n",
       "    <tr>\n",
       "      <th>2</th>\n",
       "      <td>Jeff Adrien</td>\n",
       "      <td>PF</td>\n",
       "      <td>27</td>\n",
       "      <td>TOT</td>\n",
       "      <td>53</td>\n",
       "      <td>12</td>\n",
       "      <td>961</td>\n",
       "      <td>143</td>\n",
       "      <td>275</td>\n",
       "      <td>0.520</td>\n",
       "      <td>...</td>\n",
       "      <td>204</td>\n",
       "      <td>306</td>\n",
       "      <td>38</td>\n",
       "      <td>24</td>\n",
       "      <td>36</td>\n",
       "      <td>39</td>\n",
       "      <td>108</td>\n",
       "      <td>362</td>\n",
       "      <td>2013-2014</td>\n",
       "      <td>2013</td>\n",
       "    </tr>\n",
       "    <tr>\n",
       "      <th>3</th>\n",
       "      <td>Arron Afflalo</td>\n",
       "      <td>SG</td>\n",
       "      <td>28</td>\n",
       "      <td>ORL</td>\n",
       "      <td>73</td>\n",
       "      <td>73</td>\n",
       "      <td>2552</td>\n",
       "      <td>464</td>\n",
       "      <td>1011</td>\n",
       "      <td>0.459</td>\n",
       "      <td>...</td>\n",
       "      <td>230</td>\n",
       "      <td>262</td>\n",
       "      <td>248</td>\n",
       "      <td>35</td>\n",
       "      <td>3</td>\n",
       "      <td>146</td>\n",
       "      <td>136</td>\n",
       "      <td>1330</td>\n",
       "      <td>2013-2014</td>\n",
       "      <td>2013</td>\n",
       "    </tr>\n",
       "    <tr>\n",
       "      <th>4</th>\n",
       "      <td>Alexis Ajinca</td>\n",
       "      <td>C</td>\n",
       "      <td>25</td>\n",
       "      <td>NOP</td>\n",
       "      <td>56</td>\n",
       "      <td>30</td>\n",
       "      <td>951</td>\n",
       "      <td>136</td>\n",
       "      <td>249</td>\n",
       "      <td>0.546</td>\n",
       "      <td>...</td>\n",
       "      <td>183</td>\n",
       "      <td>277</td>\n",
       "      <td>40</td>\n",
       "      <td>23</td>\n",
       "      <td>46</td>\n",
       "      <td>63</td>\n",
       "      <td>187</td>\n",
       "      <td>328</td>\n",
       "      <td>2013-2014</td>\n",
       "      <td>2013</td>\n",
       "    </tr>\n",
       "  </tbody>\n",
       "</table>\n",
       "<p>5 rows × 31 columns</p>\n",
       "</div>"
      ],
      "text/plain": [
       "          player pos  age bref_team_id   g  gs    mp   fg   fga    fg.  \\\n",
       "0     Quincy Acy  SF   23          TOT  63   0   847   66   141  0.468   \n",
       "1   Steven Adams   C   20          OKC  81  20  1197   93   185  0.503   \n",
       "2    Jeff Adrien  PF   27          TOT  53  12   961  143   275  0.520   \n",
       "3  Arron Afflalo  SG   28          ORL  73  73  2552  464  1011  0.459   \n",
       "4  Alexis Ajinca   C   25          NOP  56  30   951  136   249  0.546   \n",
       "\n",
       "      ...      drb  trb  ast  stl  blk  tov   pf   pts     season  season_end  \n",
       "0     ...      144  216   28   23   26   30  122   171  2013-2014        2013  \n",
       "1     ...      190  332   43   40   57   71  203   265  2013-2014        2013  \n",
       "2     ...      204  306   38   24   36   39  108   362  2013-2014        2013  \n",
       "3     ...      230  262  248   35    3  146  136  1330  2013-2014        2013  \n",
       "4     ...      183  277   40   23   46   63  187   328  2013-2014        2013  \n",
       "\n",
       "[5 rows x 31 columns]"
      ]
     },
     "execution_count": 3,
     "metadata": {},
     "output_type": "execute_result"
    }
   ],
   "source": [
    "nba.head()"
   ]
  },
  {
   "cell_type": "markdown",
   "metadata": {},
   "source": [
    "#### Exploratory data analysis (EDA)"
   ]
  },
  {
   "cell_type": "code",
   "execution_count": 4,
   "metadata": {},
   "outputs": [
    {
     "name": "stdout",
     "output_type": "stream",
     "text": [
      "<class 'pandas.core.frame.DataFrame'>\n",
      "RangeIndex: 481 entries, 0 to 480\n",
      "Data columns (total 31 columns):\n",
      "player          481 non-null object\n",
      "pos             481 non-null object\n",
      "age             481 non-null int64\n",
      "bref_team_id    481 non-null object\n",
      "g               481 non-null int64\n",
      "gs              481 non-null int64\n",
      "mp              481 non-null int64\n",
      "fg              481 non-null int64\n",
      "fga             481 non-null int64\n",
      "fg.             479 non-null float64\n",
      "x3p             481 non-null int64\n",
      "x3pa            481 non-null int64\n",
      "x3p.            414 non-null float64\n",
      "x2p             481 non-null int64\n",
      "x2pa            481 non-null int64\n",
      "x2p.            478 non-null float64\n",
      "efg.            479 non-null float64\n",
      "ft              481 non-null int64\n",
      "fta             481 non-null int64\n",
      "ft.             461 non-null float64\n",
      "orb             481 non-null int64\n",
      "drb             481 non-null int64\n",
      "trb             481 non-null int64\n",
      "ast             481 non-null int64\n",
      "stl             481 non-null int64\n",
      "blk             481 non-null int64\n",
      "tov             481 non-null int64\n",
      "pf              481 non-null int64\n",
      "pts             481 non-null int64\n",
      "season          481 non-null object\n",
      "season_end      481 non-null int64\n",
      "dtypes: float64(5), int64(22), object(4)\n",
      "memory usage: 116.6+ KB\n"
     ]
    }
   ],
   "source": [
    "nba.info()"
   ]
  },
  {
   "cell_type": "code",
   "execution_count": 5,
   "metadata": {},
   "outputs": [
    {
     "data": {
      "text/plain": [
       "player           0\n",
       "pos              0\n",
       "age              0\n",
       "bref_team_id     0\n",
       "g                0\n",
       "gs               0\n",
       "mp               0\n",
       "fg               0\n",
       "fga              0\n",
       "fg.              2\n",
       "x3p              0\n",
       "x3pa             0\n",
       "x3p.            67\n",
       "x2p              0\n",
       "x2pa             0\n",
       "x2p.             3\n",
       "efg.             2\n",
       "ft               0\n",
       "fta              0\n",
       "ft.             20\n",
       "orb              0\n",
       "drb              0\n",
       "trb              0\n",
       "ast              0\n",
       "stl              0\n",
       "blk              0\n",
       "tov              0\n",
       "pf               0\n",
       "pts              0\n",
       "season           0\n",
       "season_end       0\n",
       "dtype: int64"
      ]
     },
     "execution_count": 5,
     "metadata": {},
     "output_type": "execute_result"
    }
   ],
   "source": [
    "# Checking if any feature column having null value or not.\n",
    "nba.isnull().sum()"
   ]
  },
  {
   "cell_type": "code",
   "execution_count": 6,
   "metadata": {},
   "outputs": [],
   "source": [
    "# fill missing values with the column means\n",
    "# fill missing values with mean column values \n",
    "\n",
    "nba.fillna(nba.mean(), inplace=True)"
   ]
  },
  {
   "cell_type": "code",
   "execution_count": 7,
   "metadata": {},
   "outputs": [
    {
     "data": {
      "text/plain": [
       "0"
      ]
     },
     "execution_count": 7,
     "metadata": {},
     "output_type": "execute_result"
    }
   ],
   "source": [
    "# Again Checking if any feature column having null value or not.\n",
    "nba.isnull().any().sum()"
   ]
  },
  {
   "cell_type": "markdown",
   "metadata": {},
   "source": [
    "### Defining Predictor and target Variable"
   ]
  },
  {
   "cell_type": "code",
   "execution_count": 8,
   "metadata": {},
   "outputs": [],
   "source": [
    "#Selection of Feature columns\n",
    "# Removing player name, pos, bref_team_id, pts, season, season_end\n",
    "\n",
    "X = nba[['age','g','gs','mp','fg','fga','fg.','x3p','x3pa','x3p.','x2p','x2pa','x2p.','efg.','ft','fta','ft.','orb','drb',\n",
    "         'trb','ast','stl','blk','tov','pf']]\n",
    "\n",
    "y = nba['pts']"
   ]
  },
  {
   "cell_type": "markdown",
   "metadata": {},
   "source": [
    "### Spliting the Dataset\n",
    "Spliting data into train and test"
   ]
  },
  {
   "cell_type": "code",
   "execution_count": 9,
   "metadata": {},
   "outputs": [],
   "source": [
    "# split into train and test\n",
    "from sklearn.model_selection import train_test_split\n",
    "\n",
    "X_train, X_test, y_train, y_test = train_test_split(X, y, test_size=0.33, random_state=707)"
   ]
  },
  {
   "cell_type": "markdown",
   "metadata": {},
   "source": [
    "### Instantiate KNN Model"
   ]
  },
  {
   "cell_type": "code",
   "execution_count": 10,
   "metadata": {},
   "outputs": [
    {
     "data": {
      "text/plain": [
       "KNeighborsRegressor(algorithm='auto', leaf_size=30, metric='minkowski',\n",
       "          metric_params=None, n_jobs=None, n_neighbors=5, p=2,\n",
       "          weights='uniform')"
      ]
     },
     "execution_count": 10,
     "metadata": {},
     "output_type": "execute_result"
    }
   ],
   "source": [
    "from sklearn.neighbors import KNeighborsRegressor\n",
    "\n",
    "# instantiate learning model (k = 3)\n",
    "\n",
    "#    for K in range(1,26):\n",
    "#    kneigh = KNeighborsRegressor(n_neighbors = K, weights='uniform', algorithm='auto')\n",
    "#    kneigh.fit(X_train, y_train) \n",
    "#    y_pred = kneigh.predict(X_test)\n",
    "#    print(\"Accuracy is \", accuracy_score(y_test,y_pred)*100,\"% for K-Value:\",K)\n",
    "    \n",
    "kneigh = KNeighborsRegressor(n_neighbors = 5)\n",
    "kneigh.fit(X_train, y_train)"
   ]
  },
  {
   "cell_type": "code",
   "execution_count": 11,
   "metadata": {},
   "outputs": [
    {
     "name": "stdout",
     "output_type": "stream",
     "text": [
      "Variance score: 0.98\n"
     ]
    }
   ],
   "source": [
    "# evaluate accuracy\n",
    "#variance score: 1 is perfect prediction\n",
    "\n",
    "print('Variance score: %.2f' % kneigh.score(X_test, y_test))"
   ]
  },
  {
   "cell_type": "markdown",
   "metadata": {},
   "source": [
    "So we have good accuracy"
   ]
  },
  {
   "cell_type": "markdown",
   "metadata": {},
   "source": [
    "### Cross validation"
   ]
  },
  {
   "cell_type": "code",
   "execution_count": 12,
   "metadata": {},
   "outputs": [
    {
     "name": "stdout",
     "output_type": "stream",
     "text": [
      "Accuracies of 10 folds:  [0.98815803 0.98292153 0.96015759 0.97811155 0.97877272 0.97774285\n",
      " 0.97035607 0.96635572 0.98377762 0.97574176]\n",
      "--------------------------------------------------------------------------------\n",
      "Mean accuracy of 10 folds with all columns:  0.976209543083091\n"
     ]
    }
   ],
   "source": [
    "from sklearn.model_selection import cross_val_score\n",
    "\n",
    "#cross validation\n",
    "X1=X.values\n",
    "y1=y.values\n",
    "scores = cross_val_score(kneigh, X1,y1, cv=10)\n",
    "\n",
    "# Print the accuracy for each fold:\n",
    "print ('Accuracies of 10 folds: ' , scores)\n",
    "print('-'*80)\n",
    "\n",
    "# And the mean accuracy of all 10 folds:\n",
    "print ('Mean accuracy of 10 folds with all columns: ' , scores.mean())"
   ]
  },
  {
   "cell_type": "code",
   "execution_count": 13,
   "metadata": {},
   "outputs": [
    {
     "name": "stdout",
     "output_type": "stream",
     "text": [
      "Mean squared error with test data: 4506.39\n",
      "Mean squared error with train data: 4550.21\n"
     ]
    }
   ],
   "source": [
    "##Predict the value using test data\n",
    "pred_test = kneigh.predict(X_test)\n",
    "\n",
    "# The mean squared error using test data\n",
    "print(\"Mean squared error with test data: %.2f\" % np.mean((pred_test - y_test) ** 2))\n",
    "\n",
    "\n",
    "##Predict the value using train data\n",
    "pred_train = kneigh.predict(X_train)\n",
    "\n",
    "# The mean squared error using train data\n",
    "print(\"Mean squared error with train data: %.2f\" % np.mean((pred_train - y_train) ** 2))\n",
    "\n",
    "### As both MSE are almost in a same range , \n",
    "### hence we can say that model is fitted with both train data and test data"
   ]
  },
  {
   "cell_type": "code",
   "execution_count": 14,
   "metadata": {},
   "outputs": [
    {
     "name": "stderr",
     "output_type": "stream",
     "text": [
      "C:\\Users\\richa\\Anaconda3\\envs\\tensorflow\\lib\\site-packages\\ipykernel_launcher.py:1: FutureWarning: The pandas.core.datetools module is deprecated and will be removed in a future version. Please use the pandas.tseries module instead.\n",
      "  \"\"\"Entry point for launching an IPython kernel.\n"
     ]
    },
    {
     "data": {
      "text/html": [
       "<table class=\"simpletable\">\n",
       "<caption>OLS Regression Results</caption>\n",
       "<tr>\n",
       "  <th>Dep. Variable:</th>           <td>pts</td>       <th>  R-squared:         </th>  <td>   1.000</td> \n",
       "</tr>\n",
       "<tr>\n",
       "  <th>Model:</th>                   <td>OLS</td>       <th>  Adj. R-squared:    </th>  <td>   1.000</td> \n",
       "</tr>\n",
       "<tr>\n",
       "  <th>Method:</th>             <td>Least Squares</td>  <th>  F-statistic:       </th>  <td>1.246e+30</td>\n",
       "</tr>\n",
       "<tr>\n",
       "  <th>Date:</th>             <td>Sun, 28 Oct 2018</td> <th>  Prob (F-statistic):</th>   <td>  0.00</td>  \n",
       "</tr>\n",
       "<tr>\n",
       "  <th>Time:</th>                 <td>20:50:16</td>     <th>  Log-Likelihood:    </th>  <td>  8187.8</td> \n",
       "</tr>\n",
       "<tr>\n",
       "  <th>No. Observations:</th>      <td>   322</td>      <th>  AIC:               </th> <td>-1.633e+04</td>\n",
       "</tr>\n",
       "<tr>\n",
       "  <th>Df Residuals:</th>          <td>   300</td>      <th>  BIC:               </th> <td>-1.625e+04</td>\n",
       "</tr>\n",
       "<tr>\n",
       "  <th>Df Model:</th>              <td>    22</td>      <th>                     </th>      <td> </td>    \n",
       "</tr>\n",
       "<tr>\n",
       "  <th>Covariance Type:</th>      <td>nonrobust</td>    <th>                     </th>      <td> </td>    \n",
       "</tr>\n",
       "</table>\n",
       "<table class=\"simpletable\">\n",
       "<tr>\n",
       "    <td></td>      <th>coef</th>     <th>std err</th>      <th>t</th>      <th>P>|t|</th>  <th>[0.025</th>    <th>0.975]</th>  \n",
       "</tr>\n",
       "<tr>\n",
       "  <th>age</th>  <td> 1.225e-14</td> <td> 2.32e-14</td> <td>    0.527</td> <td> 0.598</td> <td>-3.35e-14</td> <td>  5.8e-14</td>\n",
       "</tr>\n",
       "<tr>\n",
       "  <th>g</th>    <td>-5.995e-15</td> <td> 1.51e-14</td> <td>   -0.398</td> <td> 0.691</td> <td>-3.56e-14</td> <td> 2.36e-14</td>\n",
       "</tr>\n",
       "<tr>\n",
       "  <th>gs</th>   <td> 9.104e-15</td> <td> 1.16e-14</td> <td>    0.783</td> <td> 0.435</td> <td>-1.38e-14</td> <td>  3.2e-14</td>\n",
       "</tr>\n",
       "<tr>\n",
       "  <th>mp</th>   <td> 1.749e-15</td> <td> 1.03e-15</td> <td>    1.701</td> <td> 0.090</td> <td>-2.75e-16</td> <td> 3.77e-15</td>\n",
       "</tr>\n",
       "<tr>\n",
       "  <th>fg</th>   <td>    1.6667</td> <td> 7.84e-15</td> <td> 2.12e+14</td> <td> 0.000</td> <td>    1.667</td> <td>    1.667</td>\n",
       "</tr>\n",
       "<tr>\n",
       "  <th>fga</th>  <td> -4.08e-15</td> <td> 3.23e-15</td> <td>   -1.265</td> <td> 0.207</td> <td>-1.04e-14</td> <td> 2.27e-15</td>\n",
       "</tr>\n",
       "<tr>\n",
       "  <th>fg.</th>  <td>         0</td> <td> 5.93e-12</td> <td>        0</td> <td> 1.000</td> <td>-1.17e-11</td> <td> 1.17e-11</td>\n",
       "</tr>\n",
       "<tr>\n",
       "  <th>x3p</th>  <td>    1.3333</td> <td> 1.64e-14</td> <td> 8.13e+13</td> <td> 0.000</td> <td>    1.333</td> <td>    1.333</td>\n",
       "</tr>\n",
       "<tr>\n",
       "  <th>x3pa</th> <td>-6.661e-16</td> <td> 6.67e-15</td> <td>   -0.100</td> <td> 0.921</td> <td>-1.38e-14</td> <td> 1.25e-14</td>\n",
       "</tr>\n",
       "<tr>\n",
       "  <th>x3p.</th> <td>-1.066e-13</td> <td> 1.29e-12</td> <td>   -0.082</td> <td> 0.934</td> <td>-2.65e-12</td> <td> 2.44e-12</td>\n",
       "</tr>\n",
       "<tr>\n",
       "  <th>x2p</th>  <td>    0.3333</td> <td> 1.04e-14</td> <td> 3.21e+13</td> <td> 0.000</td> <td>    0.333</td> <td>    0.333</td>\n",
       "</tr>\n",
       "<tr>\n",
       "  <th>x2pa</th> <td> -2.22e-16</td> <td> 4.59e-15</td> <td>   -0.048</td> <td> 0.961</td> <td>-9.25e-15</td> <td>  8.8e-15</td>\n",
       "</tr>\n",
       "<tr>\n",
       "  <th>x2p.</th> <td>-7.105e-14</td> <td>  2.8e-12</td> <td>   -0.025</td> <td> 0.980</td> <td>-5.59e-12</td> <td> 5.45e-12</td>\n",
       "</tr>\n",
       "<tr>\n",
       "  <th>efg.</th> <td> 3.695e-13</td> <td> 5.33e-12</td> <td>    0.069</td> <td> 0.945</td> <td>-1.01e-11</td> <td> 1.09e-11</td>\n",
       "</tr>\n",
       "<tr>\n",
       "  <th>ft</th>   <td>    1.0000</td> <td> 1.09e-14</td> <td> 9.19e+13</td> <td> 0.000</td> <td>    1.000</td> <td>    1.000</td>\n",
       "</tr>\n",
       "<tr>\n",
       "  <th>fta</th>  <td>-6.217e-15</td> <td> 8.74e-15</td> <td>   -0.711</td> <td> 0.477</td> <td>-2.34e-14</td> <td>  1.1e-14</td>\n",
       "</tr>\n",
       "<tr>\n",
       "  <th>ft.</th>  <td>         0</td> <td> 8.83e-13</td> <td>        0</td> <td> 1.000</td> <td>-1.74e-12</td> <td> 1.74e-12</td>\n",
       "</tr>\n",
       "<tr>\n",
       "  <th>orb</th>  <td> 2.498e-15</td> <td> 5.11e-15</td> <td>    0.489</td> <td> 0.625</td> <td>-7.55e-15</td> <td> 1.25e-14</td>\n",
       "</tr>\n",
       "<tr>\n",
       "  <th>drb</th>  <td> 2.529e-15</td> <td> 3.79e-15</td> <td>    0.667</td> <td> 0.505</td> <td>-4.93e-15</td> <td> 9.99e-15</td>\n",
       "</tr>\n",
       "<tr>\n",
       "  <th>trb</th>  <td> -1.61e-15</td> <td> 1.99e-15</td> <td>   -0.809</td> <td> 0.419</td> <td>-5.53e-15</td> <td> 2.31e-15</td>\n",
       "</tr>\n",
       "<tr>\n",
       "  <th>ast</th>  <td>-2.887e-15</td> <td> 2.65e-15</td> <td>   -1.089</td> <td> 0.277</td> <td> -8.1e-15</td> <td> 2.33e-15</td>\n",
       "</tr>\n",
       "<tr>\n",
       "  <th>stl</th>  <td> 3.553e-15</td> <td> 8.32e-15</td> <td>    0.427</td> <td> 0.670</td> <td>-1.28e-14</td> <td> 1.99e-14</td>\n",
       "</tr>\n",
       "<tr>\n",
       "  <th>blk</th>  <td> 2.776e-15</td> <td> 8.97e-15</td> <td>    0.310</td> <td> 0.757</td> <td>-1.49e-14</td> <td> 2.04e-14</td>\n",
       "</tr>\n",
       "<tr>\n",
       "  <th>tov</th>  <td> 1.776e-15</td> <td> 8.82e-15</td> <td>    0.201</td> <td> 0.841</td> <td>-1.56e-14</td> <td> 1.91e-14</td>\n",
       "</tr>\n",
       "<tr>\n",
       "  <th>pf</th>   <td> 3.553e-15</td> <td> 5.69e-15</td> <td>    0.624</td> <td> 0.533</td> <td>-7.65e-15</td> <td> 1.48e-14</td>\n",
       "</tr>\n",
       "</table>\n",
       "<table class=\"simpletable\">\n",
       "<tr>\n",
       "  <th>Omnibus:</th>       <td>30.581</td> <th>  Durbin-Watson:     </th> <td>   0.627</td>\n",
       "</tr>\n",
       "<tr>\n",
       "  <th>Prob(Omnibus):</th> <td> 0.000</td> <th>  Jarque-Bera (JB):  </th> <td>  37.379</td>\n",
       "</tr>\n",
       "<tr>\n",
       "  <th>Skew:</th>          <td>-0.834</td> <th>  Prob(JB):          </th> <td>7.64e-09</td>\n",
       "</tr>\n",
       "<tr>\n",
       "  <th>Kurtosis:</th>      <td> 3.039</td> <th>  Cond. No.          </th> <td>4.84e+16</td>\n",
       "</tr>\n",
       "</table><br/><br/>Warnings:<br/>[1] Standard Errors assume that the covariance matrix of the errors is correctly specified.<br/>[2] The smallest eigenvalue is 3.92e-25. This might indicate that there are<br/>strong multicollinearity problems or that the design matrix is singular."
      ],
      "text/plain": [
       "<class 'statsmodels.iolib.summary.Summary'>\n",
       "\"\"\"\n",
       "                            OLS Regression Results                            \n",
       "==============================================================================\n",
       "Dep. Variable:                    pts   R-squared:                       1.000\n",
       "Model:                            OLS   Adj. R-squared:                  1.000\n",
       "Method:                 Least Squares   F-statistic:                 1.246e+30\n",
       "Date:                Sun, 28 Oct 2018   Prob (F-statistic):               0.00\n",
       "Time:                        20:50:16   Log-Likelihood:                 8187.8\n",
       "No. Observations:                 322   AIC:                        -1.633e+04\n",
       "Df Residuals:                     300   BIC:                        -1.625e+04\n",
       "Df Model:                          22                                         \n",
       "Covariance Type:            nonrobust                                         \n",
       "==============================================================================\n",
       "                 coef    std err          t      P>|t|      [0.025      0.975]\n",
       "------------------------------------------------------------------------------\n",
       "age         1.225e-14   2.32e-14      0.527      0.598   -3.35e-14     5.8e-14\n",
       "g          -5.995e-15   1.51e-14     -0.398      0.691   -3.56e-14    2.36e-14\n",
       "gs          9.104e-15   1.16e-14      0.783      0.435   -1.38e-14     3.2e-14\n",
       "mp          1.749e-15   1.03e-15      1.701      0.090   -2.75e-16    3.77e-15\n",
       "fg             1.6667   7.84e-15   2.12e+14      0.000       1.667       1.667\n",
       "fga         -4.08e-15   3.23e-15     -1.265      0.207   -1.04e-14    2.27e-15\n",
       "fg.                 0   5.93e-12          0      1.000   -1.17e-11    1.17e-11\n",
       "x3p            1.3333   1.64e-14   8.13e+13      0.000       1.333       1.333\n",
       "x3pa       -6.661e-16   6.67e-15     -0.100      0.921   -1.38e-14    1.25e-14\n",
       "x3p.       -1.066e-13   1.29e-12     -0.082      0.934   -2.65e-12    2.44e-12\n",
       "x2p            0.3333   1.04e-14   3.21e+13      0.000       0.333       0.333\n",
       "x2pa        -2.22e-16   4.59e-15     -0.048      0.961   -9.25e-15     8.8e-15\n",
       "x2p.       -7.105e-14    2.8e-12     -0.025      0.980   -5.59e-12    5.45e-12\n",
       "efg.        3.695e-13   5.33e-12      0.069      0.945   -1.01e-11    1.09e-11\n",
       "ft             1.0000   1.09e-14   9.19e+13      0.000       1.000       1.000\n",
       "fta        -6.217e-15   8.74e-15     -0.711      0.477   -2.34e-14     1.1e-14\n",
       "ft.                 0   8.83e-13          0      1.000   -1.74e-12    1.74e-12\n",
       "orb         2.498e-15   5.11e-15      0.489      0.625   -7.55e-15    1.25e-14\n",
       "drb         2.529e-15   3.79e-15      0.667      0.505   -4.93e-15    9.99e-15\n",
       "trb         -1.61e-15   1.99e-15     -0.809      0.419   -5.53e-15    2.31e-15\n",
       "ast        -2.887e-15   2.65e-15     -1.089      0.277    -8.1e-15    2.33e-15\n",
       "stl         3.553e-15   8.32e-15      0.427      0.670   -1.28e-14    1.99e-14\n",
       "blk         2.776e-15   8.97e-15      0.310      0.757   -1.49e-14    2.04e-14\n",
       "tov         1.776e-15   8.82e-15      0.201      0.841   -1.56e-14    1.91e-14\n",
       "pf          3.553e-15   5.69e-15      0.624      0.533   -7.65e-15    1.48e-14\n",
       "==============================================================================\n",
       "Omnibus:                       30.581   Durbin-Watson:                   0.627\n",
       "Prob(Omnibus):                  0.000   Jarque-Bera (JB):               37.379\n",
       "Skew:                          -0.834   Prob(JB):                     7.64e-09\n",
       "Kurtosis:                       3.039   Cond. No.                     4.84e+16\n",
       "==============================================================================\n",
       "\n",
       "Warnings:\n",
       "[1] Standard Errors assume that the covariance matrix of the errors is correctly specified.\n",
       "[2] The smallest eigenvalue is 3.92e-25. This might indicate that there are\n",
       "strong multicollinearity problems or that the design matrix is singular.\n",
       "\"\"\""
      ]
     },
     "execution_count": 14,
     "metadata": {},
     "output_type": "execute_result"
    }
   ],
   "source": [
    "from pandas.core import datetools\n",
    "import statsmodels.api as sm\n",
    "\n",
    "model1 = sm.OLS(y_train,X_train)\n",
    "result = model1.fit()\n",
    "result.summary()"
   ]
  },
  {
   "cell_type": "code",
   "execution_count": 15,
   "metadata": {},
   "outputs": [
    {
     "name": "stdout",
     "output_type": "stream",
     "text": [
      "Score for these features:  0.9832645037536917\n"
     ]
    }
   ],
   "source": [
    "# From stats model, we will now consider feature columns where p_values < .05\n",
    "\n",
    "X_new = nba[['g','mp','fg','x3p','x2p','ft','drb']]\n",
    "y = nba['pts']\n",
    "\n",
    "\n",
    "#linear fit\n",
    "\n",
    "kneigh.fit(X_new, y)\n",
    "print('Score for these features: ',kneigh.score(X_new, y))"
   ]
  },
  {
   "cell_type": "code",
   "execution_count": 16,
   "metadata": {},
   "outputs": [
    {
     "name": "stdout",
     "output_type": "stream",
     "text": [
      "Accuracies of 10 folds:  [0.97547088 0.96622063 0.95893204 0.97566897 0.97790889 0.97924046\n",
      " 0.96397394 0.96719563 0.98217537 0.97160349]\n",
      "Mean accuracy of 10 folds:  0.9718390295077104\n"
     ]
    }
   ],
   "source": [
    "x_train_2, x_test_2, y_train_2, y_test_2 = train_test_split(X_new,y, test_size=0.33, random_state=707)\n",
    "kneigh2 = KNeighborsRegressor(n_neighbors = 5)\n",
    "\n",
    "# Train the model using the training sets\n",
    "regrfit2= kneigh2.fit(x_train_2, y_train_2)\n",
    "scores2 = cross_val_score(regrfit2, X_new.values,y, cv=10)\n",
    "\n",
    "# Print the accuracy for each fold:\n",
    "print ('Accuracies of 10 folds: ' , scores2)\n",
    "print ('Mean accuracy of 10 folds: ' , scores2.mean())"
   ]
  },
  {
   "cell_type": "markdown",
   "metadata": {},
   "source": [
    "As we can see mean accuracy using first is better than second model. Hence we will use the fisrt model to predict the points for NBA players"
   ]
  },
  {
   "cell_type": "code",
   "execution_count": null,
   "metadata": {},
   "outputs": [],
   "source": []
  },
  {
   "cell_type": "code",
   "execution_count": null,
   "metadata": {},
   "outputs": [],
   "source": []
  },
  {
   "cell_type": "code",
   "execution_count": null,
   "metadata": {},
   "outputs": [],
   "source": []
  },
  {
   "cell_type": "code",
   "execution_count": null,
   "metadata": {},
   "outputs": [],
   "source": []
  },
  {
   "cell_type": "code",
   "execution_count": null,
   "metadata": {},
   "outputs": [],
   "source": []
  },
  {
   "cell_type": "code",
   "execution_count": null,
   "metadata": {},
   "outputs": [],
   "source": []
  },
  {
   "cell_type": "code",
   "execution_count": null,
   "metadata": {},
   "outputs": [],
   "source": []
  },
  {
   "cell_type": "code",
   "execution_count": null,
   "metadata": {},
   "outputs": [],
   "source": []
  }
 ],
 "metadata": {
  "kernelspec": {
   "display_name": "Python 3",
   "language": "python",
   "name": "python3"
  },
  "language_info": {
   "codemirror_mode": {
    "name": "ipython",
    "version": 3
   },
   "file_extension": ".py",
   "mimetype": "text/x-python",
   "name": "python",
   "nbconvert_exporter": "python",
   "pygments_lexer": "ipython3",
   "version": "3.5.6"
  }
 },
 "nbformat": 4,
 "nbformat_minor": 2
}
